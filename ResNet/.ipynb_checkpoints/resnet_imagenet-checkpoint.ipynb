{
 "cells": [
  {
   "cell_type": "code",
   "execution_count": null,
   "metadata": {
    "id": "X1J7RQDVuua9"
   },
   "outputs": [],
   "source": [
    "import torch\n",
    "import torch.nn as nn\n",
    "import torch.nn.functional as F"
   ]
  },
  {
   "cell_type": "code",
   "execution_count": null,
   "metadata": {
    "id": "lDZXV1kBuya-"
   },
   "outputs": [],
   "source": [
    "class BasicBlock(nn.Module):\n",
    "  # block 안에서 plane 수 증가 비율\n",
    "  expansion = 1\n",
    "\n",
    "  # in_planes : input, planes: output\n",
    "  def __init__(self, in_planes, planes, stride=1):\n",
    "    super(BasicBlock, self).__init__()\n",
    "    \n",
    "    self.conv1 = nn.Conv2d(in_planes, planes, kernel_size=3, stride=stride, padding=1, bias=False)\n",
    "    self.bn1 = nn.BatchNorm2d(planes)\n",
    "    \n",
    "    self.conv2 = nn.Conv2d(planes, planes, kernel_size=3,stride=1,padding=1,bias=False)\n",
    "    self.bn2 = nn.BatchNorm2d(planes)\n",
    "\n",
    "    # identity mapping\n",
    "    self.shortcut = nn.Sequential()\n",
    "\n",
    "    # shortcut connection 시 shape가 맞지 않을 때(conv_n 이 conv_n+1로 넘어갈 때)\n",
    "    # projection mapping\n",
    "    if stride != 1 or in_planes != self.expansion * planes:\n",
    "      self.shortcut = nn.Sequential(\n",
    "          nn.Conv2d(in_planes, self.expansion*planes, kernel_size=1, stride=stride, bias=False),\n",
    "          nn.BatchNorm2d(self.expansion * planes)\n",
    "      )\n",
    "\n",
    "  def forward(self, x):\n",
    "    out = F.relu(self.bn1(self.conv1(x)))\n",
    "    out = self.bn2(self.conv2(out))\n",
    "\n",
    "    # shortcut connection\n",
    "    out += self.shortcut(x)\n",
    "\n",
    "    out = F.relu(out)\n",
    "    return out\n"
   ]
  },
  {
   "cell_type": "code",
   "execution_count": null,
   "metadata": {
    "id": "Attza3GMymgd"
   },
   "outputs": [],
   "source": [
    "class Bottleneck(nn.Module):\n",
    "  # Bottleneck에서는 plane이 마지막에 4배로 팽창\n",
    "  expansion = 4\n",
    "\n",
    "  def __init__(self,in_planes, planes, stride=1):\n",
    "    super(Bottleneck,self).__init__()\n",
    "    self.conv1 = nn.Conv2d(in_planes, planes,kernel_size=1,bias=False)\n",
    "    self.bn1 = nn.BatchNorm2d(planes)\n",
    "\n",
    "    # 사이즈 유지 위해 패딩 1\n",
    "    self.conv2 = nn.Conv2d(planes, planes, kernel_size=3, stride=stride, padding=1, bias=False)\n",
    "    self.bn2 = nn.BatchNorm2d(planes)\n",
    "\n",
    "    self.conv3 = nn.Conv2d(planes, self.expansion * planes, kernel_size=1, bias=False)\n",
    "    self.bn3 = nn.BatchNorm2d(self.expansion * planes)\n",
    "\n",
    "    self.shortcut = nn.Sequential()\n",
    "    if stride != 1 or in_planes != self.expansion * planes:\n",
    "      self.shortcut = nn.Sequential(\n",
    "          nn.Conv2d(in_planes, self.expansion*planes, kernel_size=1, stride=stride, bias=False),\n",
    "          nn.BatchNorm2d(self.expansion*planes)\n",
    "      )\n",
    "\n",
    "  def forward(self, x):\n",
    "    out = F.relu(self.bn1(self.conv1(x)))\n",
    "    out = F.relu(self.bn2(self.conv2(out)))\n",
    "    out = self.bn3(self.conv3(out))\n",
    "    out += self.shortcut(x)\n",
    "    out = F.relu(out)\n",
    "    return out"
   ]
  },
  {
   "cell_type": "code",
   "execution_count": null,
   "metadata": {
    "id": "RLEKrlJVhFOx"
   },
   "outputs": [],
   "source": [
    "class ResNet(nn.Module):\n",
    "  def __init__(self, block, num_blocks, num_classes=10):\n",
    "    super(ResNet, self).__init__()\n",
    "    # 64부터 시작\n",
    "    self.in_planes = 64\n",
    "\n",
    "    self.conv1 = nn.Conv2d(3, 64, kernel_size=3, stride=1, padding=1, bias=False)\n",
    "    self.bn1 = nn.BatchNorm2d(64)\n",
    "\n",
    "    self.layer1 = self._make_layer(block, 64, num_blocks[0], stride=1)\n",
    "    self.layer2 = self._make_layer(block, 128, num_blocks[1], stride=2)\n",
    "    self.layer3 = self._make_layer(block, 256, num_blocks[2], stride=2)\n",
    "    self.layer4 = self._make_layer(block, 512, num_blocks[3], stride=2)\n",
    "    # 마지막 클래스 예측\n",
    "    self.linear = nn.Linear(512 * block.expansion, num_classes)\n",
    "  \n",
    "  def _make_layer(self, block, planes, num_blocks, stride):\n",
    "    # 각 size 처음 stride만 2, 이후 모두 1\n",
    "    strides = [stride] + [1] * (num_blocks-1)\n",
    "    layers = []\n",
    "\n",
    "    for stride in strides:\n",
    "      layers.append(block(self.in_planes, planes, stride))\n",
    "      self.in_planes = planes * block.expansion\n",
    "    return nn.Sequential(*layers)\n",
    "\n",
    "  def forward(self, x):\n",
    "    out = F.relu(self.bn1(self.conv1(x)))\n",
    "    out = self.layer1(out)\n",
    "    out = self.layer2(out)\n",
    "    out = self.layer3(out)\n",
    "    out = self.layer4(out)\n",
    "    out = F.avg_pool2d(out,4)\n",
    "    out = out.view(out.size(0),-1)\n",
    "    out = self.linear(out)\n",
    "    return out"
   ]
  },
  {
   "cell_type": "code",
   "execution_count": null,
   "metadata": {
    "id": "YIHwcIaip-a6"
   },
   "outputs": [],
   "source": [
    "def ResNet18():\n",
    "  return ResNet(BasicBlock, [2, 2, 2, 2])\n",
    "\n",
    "def ResNet34():\n",
    "  return ResNet(BasicBlock, [3, 4, 6, 3])\n",
    "\n",
    "def ResNet50():\n",
    "  return ResNet(Bottleneck, [3, 4, 6, 3])\n",
    "\n",
    "def ResNet101():\n",
    "  return ResNet(Bottleneck, [3, 4, 23, 3])\n",
    "\n",
    "def ResNet152():\n",
    "  return ResNet(Bottleneck, [3, 8, 36, 3])"
   ]
  },
  {
   "cell_type": "code",
   "execution_count": null,
   "metadata": {
    "id": "WxYhPWId2w7D"
   },
   "outputs": [],
   "source": [
    "import torchvision\n",
    "import torchvision.transforms as transforms\n",
    "import torch.backends.cudnn as cudnn\n",
    "import torch.optim as optim\n",
    "import os\n",
    "import argparse"
   ]
  },
  {
   "cell_type": "code",
   "execution_count": null,
   "metadata": {
    "id": "fTjGX0wUqAJL"
   },
   "outputs": [],
   "source": [
    "device = 'cuda' if torch.cuda.is_available() else 'cpu'"
   ]
  },
  {
   "cell_type": "code",
   "execution_count": null,
   "metadata": {
    "colab": {
     "base_uri": "https://localhost:8080/",
     "height": 122,
     "referenced_widgets": [
      "401a26bb1a0140a08cf3f9ee13bb4bcd",
      "829f85f05d7d4f3d91cf84e0d5391667",
      "3d36621726e14a75ba3fc2d47aeaa88c",
      "bc259651741840a584d1879a215bb1a9",
      "359abfa0a8814c2fb687e504afb9d835",
      "c4d52313029b4257811dadfabb5b711d",
      "2175f53faabb47819bbcd5dd96c0adb4",
      "7560ab8ebd2a44718fb3694822794271"
     ]
    },
    "id": "I6ITQVsX2HoV",
    "outputId": "ddb0e392-a64b-44d4-8078-241b77b191db"
   },
   "outputs": [
    {
     "name": "stdout",
     "output_type": "stream",
     "text": [
      "Downloading https://www.cs.toronto.edu/~kriz/cifar-10-python.tar.gz to ./data/cifar-10-python.tar.gz\n"
     ]
    },
    {
     "data": {
      "application/vnd.jupyter.widget-view+json": {
       "model_id": "401a26bb1a0140a08cf3f9ee13bb4bcd",
       "version_major": 2,
       "version_minor": 0
      },
      "text/plain": [
       "HBox(children=(FloatProgress(value=0.0, max=170498071.0), HTML(value='')))"
      ]
     },
     "metadata": {
      "tags": []
     },
     "output_type": "display_data"
    },
    {
     "name": "stdout",
     "output_type": "stream",
     "text": [
      "\n",
      "Extracting ./data/cifar-10-python.tar.gz to ./data\n",
      "Files already downloaded and verified\n"
     ]
    }
   ],
   "source": [
    "transform_train = transforms.Compose([\n",
    "                                      transforms.RandomCrop(32, padding=4),\n",
    "                                      transforms.RandomHorizontalFlip(),\n",
    "                                      transforms.ToTensor(),\n",
    "                                      transforms.Normalize((0.4914, 0.4822, 0.4465), (0.2023, 0.1994, 0.2010))\n",
    "])\n",
    "\n",
    "transform_test = transforms.Compose([\n",
    "                                     transforms.ToTensor(),\n",
    "                                     transforms.Normalize((0.4914, 0.4822, 0.4465), (0.2023, 0.1994, 0.2010))\n",
    "])\n",
    "\n",
    "trainset = torchvision.datasets.CIFAR10(\n",
    "    root='./data',train=True,download=True,transform=transform_train)\n",
    "trainloader = torch.utils.data.DataLoader(\n",
    "    trainset, batch_size=128,shuffle=True,num_workers=2\n",
    ")\n",
    "testset = torchvision.datasets.CIFAR10(\n",
    "    root='./data',train=False,download=True,transform=transform_test)\n",
    "testloader = torch.utils.data.DataLoader(\n",
    "    testset, batch_size=100,shuffle=False,num_workers=2\n",
    ")\n",
    "classes=('plane','car','bird','cat','deer','dog','frog','horse','ship','truck')"
   ]
  },
  {
   "cell_type": "code",
   "execution_count": null,
   "metadata": {
    "id": "_enEg_oc2qFG"
   },
   "outputs": [],
   "source": [
    "best_accuracy = 0\n",
    "start_epoch = 0"
   ]
  },
  {
   "cell_type": "code",
   "execution_count": null,
   "metadata": {
    "id": "VJjQ_Fz329AR"
   },
   "outputs": [],
   "source": [
    "net = ResNet18()\n",
    "net = net.to(device)\n",
    "if device == 'cuda':\n",
    "  net = torch.nn.DataParallel(net)\n",
    "  cudnn.benchmark = True"
   ]
  },
  {
   "cell_type": "code",
   "execution_count": null,
   "metadata": {
    "id": "NaIG5_hr5634"
   },
   "outputs": [],
   "source": [
    "criterion = nn.CrossEntropyLoss()\n",
    "optimizer = optim.SGD(net.parameters(), lr=0.01, momentum=0.9, weight_decay=1e-4)\n",
    "scheduler = torch.optim.lr_scheduler.CosineAnnealingLR(optimizer, T_max=200)"
   ]
  },
  {
   "cell_type": "code",
   "execution_count": null,
   "metadata": {
    "id": "q9EK9j6q6APG"
   },
   "outputs": [],
   "source": [
    "def train(epoch):\n",
    "  net.train()\n",
    "  train_loss = 0\n",
    "  correct = 0\n",
    "  total = 0\n",
    "  for batch_idx, (inputs, targets) in enumerate(trainloader):\n",
    "    inputs, targets = inputs.to(device), targets.to(device)\n",
    "    \n",
    "    optimizer.zero_grad()\n",
    "    outputs = net(inputs)\n",
    "    loss = criterion(outputs, targets)\n",
    "    loss.backward()\n",
    "    optimizer.step()\n",
    "\n",
    "    train_loss += loss.item()\n",
    "    _, predicted = outputs.max(1)\n",
    "    total += targets.size(0)\n",
    "    correct += predicted.eq(targets).sum().item()\n",
    "    if batch_idx % 10 == 0:\n",
    "      print(batch_idx, len(trainloader), 'Loss: %.3f | Acc: %.3f%% (%d/%d)'%(train_loss/(batch_idx+1), 100.*correct/total, correct, total))\n"
   ]
  },
  {
   "cell_type": "code",
   "execution_count": null,
   "metadata": {
    "id": "99FNest-6VjW"
   },
   "outputs": [],
   "source": [
    "def test(epoch):\n",
    "  global best_accuracy\n",
    "  net.eval()\n",
    "  test_loss = 0\n",
    "  correct = 0\n",
    "  total = 0\n",
    "  with torch.no_grad():\n",
    "    for batch_idx, (inputs, targets) in enumerate(testloader):\n",
    "      inputs, targets = inputs.to(device), targets.to(device)\n",
    "      ouputs = net(inputs)\n",
    "      loss = criterion(ouputs, targets)\n",
    "      \n",
    "      test_loss += loss.item()\n",
    "      _, predicted = ouputs.max(1)\n",
    "      total += targets.size(0)\n",
    "      correct += predicted.eq(targets).sum().item()\n",
    "      if batch_idx % 50 == 0:\n",
    "        print(batch_idx, len(testloader), 'Loss: %.3f | Acc: %.3f%% (%d/%d)'%(test_loss/(batch_idx+1), 100.*correct/total, correct, total))\n",
    "  acc = 100.*correct/total\n",
    "  if acc > best_accuracy:\n",
    "      print('Saving..')\n",
    "      best_accuracy = acc"
   ]
  },
  {
   "cell_type": "code",
   "execution_count": null,
   "metadata": {
    "colab": {
     "base_uri": "https://localhost:8080/"
    },
    "id": "nMYxgjpr6XF_",
    "outputId": "f01d96aa-618e-4f4e-c687-5b7a80fd83a1"
   },
   "outputs": [
    {
     "name": "stdout",
     "output_type": "stream",
     "text": [
      "0 391 Loss: 2.390 | Acc: 14.062% (18/128)\n",
      "50 391 Loss: 1.923 | Acc: 28.232% (1843/6528)\n",
      "100 391 Loss: 1.803 | Acc: 33.014% (4268/12928)\n",
      "150 391 Loss: 1.704 | Acc: 37.045% (7160/19328)\n",
      "200 391 Loss: 1.625 | Acc: 40.213% (10346/25728)\n",
      "250 391 Loss: 1.566 | Acc: 42.458% (13641/32128)\n",
      "300 391 Loss: 1.514 | Acc: 44.521% (17153/38528)\n",
      "350 391 Loss: 1.467 | Acc: 46.521% (20901/44928)\n",
      "0 100 Loss: 1.004 | Acc: 66.000% (66/100)\n",
      "50 100 Loss: 1.075 | Acc: 61.725% (3148/5100)\n",
      "Saving..\n",
      "0 391 Loss: 1.140 | Acc: 60.938% (78/128)\n",
      "50 391 Loss: 1.063 | Acc: 62.500% (4080/6528)\n",
      "100 391 Loss: 1.035 | Acc: 63.560% (8217/12928)\n",
      "150 391 Loss: 1.016 | Acc: 64.057% (12381/19328)\n",
      "200 391 Loss: 0.989 | Acc: 64.782% (16667/25728)\n",
      "250 391 Loss: 0.970 | Acc: 65.578% (21069/32128)\n",
      "300 391 Loss: 0.953 | Acc: 66.123% (25476/38528)\n",
      "350 391 Loss: 0.937 | Acc: 66.762% (29995/44928)\n",
      "0 100 Loss: 0.824 | Acc: 69.000% (69/100)\n",
      "50 100 Loss: 0.868 | Acc: 70.000% (3570/5100)\n",
      "Saving..\n",
      "0 391 Loss: 0.870 | Acc: 67.969% (87/128)\n",
      "50 391 Loss: 0.757 | Acc: 73.606% (4805/6528)\n",
      "100 391 Loss: 0.736 | Acc: 74.226% (9596/12928)\n",
      "150 391 Loss: 0.738 | Acc: 74.250% (14351/19328)\n",
      "200 391 Loss: 0.729 | Acc: 74.413% (19145/25728)\n",
      "250 391 Loss: 0.726 | Acc: 74.679% (23993/32128)\n",
      "300 391 Loss: 0.720 | Acc: 74.907% (28860/38528)\n",
      "350 391 Loss: 0.711 | Acc: 75.158% (33767/44928)\n",
      "0 100 Loss: 0.768 | Acc: 75.000% (75/100)\n",
      "50 100 Loss: 0.736 | Acc: 75.608% (3856/5100)\n",
      "Saving..\n",
      "0 391 Loss: 0.468 | Acc: 85.156% (109/128)\n",
      "50 391 Loss: 0.633 | Acc: 78.094% (5098/6528)\n",
      "100 391 Loss: 0.621 | Acc: 78.682% (10172/12928)\n",
      "150 391 Loss: 0.620 | Acc: 78.751% (15221/19328)\n",
      "200 391 Loss: 0.609 | Acc: 79.003% (20326/25728)\n",
      "250 391 Loss: 0.606 | Acc: 79.090% (25410/32128)\n",
      "300 391 Loss: 0.602 | Acc: 79.249% (30533/38528)\n",
      "350 391 Loss: 0.596 | Acc: 79.438% (35690/44928)\n",
      "0 100 Loss: 0.601 | Acc: 79.000% (79/100)\n",
      "50 100 Loss: 0.644 | Acc: 78.725% (4015/5100)\n",
      "Saving..\n",
      "0 391 Loss: 0.479 | Acc: 83.594% (107/128)\n",
      "50 391 Loss: 0.528 | Acc: 81.756% (5337/6528)\n",
      "100 391 Loss: 0.519 | Acc: 81.923% (10591/12928)\n",
      "150 391 Loss: 0.520 | Acc: 82.124% (15873/19328)\n",
      "200 391 Loss: 0.518 | Acc: 82.245% (21160/25728)\n",
      "250 391 Loss: 0.517 | Acc: 82.118% (26383/32128)\n",
      "300 391 Loss: 0.517 | Acc: 82.039% (31608/38528)\n",
      "350 391 Loss: 0.512 | Acc: 82.200% (36931/44928)\n",
      "0 100 Loss: 0.626 | Acc: 76.000% (76/100)\n",
      "50 100 Loss: 0.599 | Acc: 80.569% (4109/5100)\n",
      "Saving..\n",
      "0 391 Loss: 0.361 | Acc: 87.500% (112/128)\n",
      "50 391 Loss: 0.438 | Acc: 84.957% (5546/6528)\n",
      "100 391 Loss: 0.454 | Acc: 84.298% (10898/12928)\n",
      "150 391 Loss: 0.460 | Acc: 84.184% (16271/19328)\n",
      "200 391 Loss: 0.465 | Acc: 84.087% (21634/25728)\n",
      "250 391 Loss: 0.465 | Acc: 84.089% (27016/32128)\n",
      "300 391 Loss: 0.461 | Acc: 84.092% (32399/38528)\n",
      "350 391 Loss: 0.459 | Acc: 84.201% (37830/44928)\n",
      "0 100 Loss: 0.562 | Acc: 80.000% (80/100)\n",
      "50 100 Loss: 0.525 | Acc: 83.118% (4239/5100)\n",
      "Saving..\n",
      "0 391 Loss: 0.376 | Acc: 85.938% (110/128)\n",
      "50 391 Loss: 0.410 | Acc: 85.830% (5603/6528)\n",
      "100 391 Loss: 0.414 | Acc: 85.682% (11077/12928)\n",
      "150 391 Loss: 0.420 | Acc: 85.482% (16522/19328)\n",
      "200 391 Loss: 0.415 | Acc: 85.607% (22025/25728)\n",
      "250 391 Loss: 0.418 | Acc: 85.530% (27479/32128)\n",
      "300 391 Loss: 0.420 | Acc: 85.452% (32923/38528)\n",
      "350 391 Loss: 0.419 | Acc: 85.461% (38396/44928)\n",
      "0 100 Loss: 0.451 | Acc: 86.000% (86/100)\n",
      "50 100 Loss: 0.506 | Acc: 83.569% (4262/5100)\n",
      "Saving..\n",
      "0 391 Loss: 0.520 | Acc: 83.594% (107/128)\n",
      "50 391 Loss: 0.373 | Acc: 87.178% (5691/6528)\n",
      "100 391 Loss: 0.378 | Acc: 87.036% (11252/12928)\n",
      "150 391 Loss: 0.388 | Acc: 86.631% (16744/19328)\n",
      "200 391 Loss: 0.390 | Acc: 86.594% (22279/25728)\n",
      "250 391 Loss: 0.395 | Acc: 86.320% (27733/32128)\n",
      "300 391 Loss: 0.390 | Acc: 86.540% (33342/38528)\n",
      "350 391 Loss: 0.386 | Acc: 86.688% (38947/44928)\n",
      "0 100 Loss: 0.492 | Acc: 85.000% (85/100)\n",
      "50 100 Loss: 0.460 | Acc: 84.490% (4309/5100)\n",
      "Saving..\n",
      "0 391 Loss: 0.436 | Acc: 86.719% (111/128)\n",
      "50 391 Loss: 0.347 | Acc: 88.097% (5751/6528)\n",
      "100 391 Loss: 0.342 | Acc: 88.289% (11414/12928)\n",
      "150 391 Loss: 0.348 | Acc: 88.085% (17025/19328)\n",
      "200 391 Loss: 0.350 | Acc: 87.959% (22630/25728)\n",
      "250 391 Loss: 0.347 | Acc: 87.964% (28261/32128)\n",
      "300 391 Loss: 0.348 | Acc: 87.843% (33844/38528)\n",
      "350 391 Loss: 0.349 | Acc: 87.823% (39457/44928)\n",
      "0 100 Loss: 0.462 | Acc: 85.000% (85/100)\n",
      "50 100 Loss: 0.493 | Acc: 84.176% (4293/5100)\n",
      "0 391 Loss: 0.419 | Acc: 85.938% (110/128)\n",
      "50 391 Loss: 0.317 | Acc: 89.032% (5812/6528)\n",
      "100 391 Loss: 0.313 | Acc: 89.248% (11538/12928)\n",
      "150 391 Loss: 0.314 | Acc: 89.202% (17241/19328)\n",
      "200 391 Loss: 0.316 | Acc: 89.121% (22929/25728)\n",
      "250 391 Loss: 0.318 | Acc: 88.982% (28588/32128)\n",
      "300 391 Loss: 0.322 | Acc: 88.803% (34214/38528)\n",
      "350 391 Loss: 0.321 | Acc: 88.802% (39897/44928)\n",
      "0 100 Loss: 0.433 | Acc: 86.000% (86/100)\n",
      "50 100 Loss: 0.429 | Acc: 85.647% (4368/5100)\n",
      "Saving..\n",
      "0 391 Loss: 0.349 | Acc: 87.500% (112/128)\n",
      "50 391 Loss: 0.274 | Acc: 90.395% (5901/6528)\n",
      "100 391 Loss: 0.278 | Acc: 90.122% (11651/12928)\n",
      "150 391 Loss: 0.285 | Acc: 89.906% (17377/19328)\n",
      "200 391 Loss: 0.293 | Acc: 89.692% (23076/25728)\n",
      "250 391 Loss: 0.291 | Acc: 89.735% (28830/32128)\n",
      "300 391 Loss: 0.289 | Acc: 89.862% (34622/38528)\n",
      "350 391 Loss: 0.293 | Acc: 89.724% (40311/44928)\n",
      "0 100 Loss: 0.351 | Acc: 86.000% (86/100)\n",
      "50 100 Loss: 0.484 | Acc: 85.078% (4339/5100)\n",
      "0 391 Loss: 0.243 | Acc: 90.625% (116/128)\n",
      "50 391 Loss: 0.271 | Acc: 90.502% (5908/6528)\n",
      "100 391 Loss: 0.277 | Acc: 90.455% (11694/12928)\n",
      "150 391 Loss: 0.275 | Acc: 90.584% (17508/19328)\n",
      "200 391 Loss: 0.274 | Acc: 90.547% (23296/25728)\n",
      "250 391 Loss: 0.278 | Acc: 90.373% (29035/32128)\n",
      "300 391 Loss: 0.278 | Acc: 90.355% (34812/38528)\n",
      "350 391 Loss: 0.277 | Acc: 90.362% (40598/44928)\n",
      "0 100 Loss: 0.529 | Acc: 81.000% (81/100)\n",
      "50 100 Loss: 0.456 | Acc: 86.157% (4394/5100)\n",
      "Saving..\n",
      "0 391 Loss: 0.200 | Acc: 95.312% (122/128)\n",
      "50 391 Loss: 0.250 | Acc: 91.437% (5969/6528)\n",
      "100 391 Loss: 0.258 | Acc: 91.128% (11781/12928)\n",
      "150 391 Loss: 0.260 | Acc: 91.101% (17608/19328)\n",
      "200 391 Loss: 0.258 | Acc: 91.080% (23433/25728)\n",
      "250 391 Loss: 0.259 | Acc: 91.048% (29252/32128)\n",
      "300 391 Loss: 0.256 | Acc: 91.154% (35120/38528)\n",
      "350 391 Loss: 0.259 | Acc: 90.997% (40883/44928)\n",
      "0 100 Loss: 0.291 | Acc: 92.000% (92/100)\n",
      "50 100 Loss: 0.381 | Acc: 88.216% (4499/5100)\n",
      "Saving..\n",
      "0 391 Loss: 0.290 | Acc: 89.062% (114/128)\n",
      "50 391 Loss: 0.238 | Acc: 91.789% (5992/6528)\n",
      "100 391 Loss: 0.233 | Acc: 91.901% (11881/12928)\n",
      "150 391 Loss: 0.236 | Acc: 91.774% (17738/19328)\n",
      "200 391 Loss: 0.238 | Acc: 91.632% (23575/25728)\n",
      "250 391 Loss: 0.238 | Acc: 91.624% (29437/32128)\n",
      "300 391 Loss: 0.238 | Acc: 91.702% (35331/38528)\n",
      "350 391 Loss: 0.240 | Acc: 91.644% (41174/44928)\n",
      "0 100 Loss: 0.265 | Acc: 91.000% (91/100)\n",
      "50 100 Loss: 0.376 | Acc: 88.392% (4508/5100)\n",
      "Saving..\n",
      "0 391 Loss: 0.136 | Acc: 94.531% (121/128)\n",
      "50 391 Loss: 0.217 | Acc: 92.142% (6015/6528)\n",
      "100 391 Loss: 0.222 | Acc: 92.118% (11909/12928)\n",
      "150 391 Loss: 0.222 | Acc: 92.146% (17810/19328)\n",
      "200 391 Loss: 0.224 | Acc: 92.234% (23730/25728)\n",
      "250 391 Loss: 0.225 | Acc: 92.194% (29620/32128)\n",
      "300 391 Loss: 0.228 | Acc: 92.037% (35460/38528)\n",
      "350 391 Loss: 0.227 | Acc: 92.043% (41353/44928)\n",
      "0 100 Loss: 0.256 | Acc: 91.000% (91/100)\n",
      "50 100 Loss: 0.439 | Acc: 86.353% (4404/5100)\n",
      "0 391 Loss: 0.146 | Acc: 93.750% (120/128)\n",
      "50 391 Loss: 0.195 | Acc: 93.199% (6084/6528)\n",
      "100 391 Loss: 0.196 | Acc: 92.984% (12021/12928)\n",
      "150 391 Loss: 0.201 | Acc: 92.741% (17925/19328)\n",
      "200 391 Loss: 0.207 | Acc: 92.537% (23808/25728)\n",
      "250 391 Loss: 0.209 | Acc: 92.452% (29703/32128)\n",
      "300 391 Loss: 0.208 | Acc: 92.528% (35649/38528)\n",
      "350 391 Loss: 0.209 | Acc: 92.524% (41569/44928)\n",
      "0 100 Loss: 0.425 | Acc: 89.000% (89/100)\n",
      "50 100 Loss: 0.469 | Acc: 86.196% (4396/5100)\n",
      "0 391 Loss: 0.258 | Acc: 92.969% (119/128)\n",
      "50 391 Loss: 0.186 | Acc: 93.474% (6102/6528)\n",
      "100 391 Loss: 0.182 | Acc: 93.657% (12108/12928)\n",
      "150 391 Loss: 0.186 | Acc: 93.409% (18054/19328)\n",
      "200 391 Loss: 0.190 | Acc: 93.350% (24017/25728)\n",
      "250 391 Loss: 0.191 | Acc: 93.311% (29979/32128)\n",
      "300 391 Loss: 0.196 | Acc: 93.104% (35871/38528)\n",
      "350 391 Loss: 0.195 | Acc: 93.136% (41844/44928)\n",
      "0 100 Loss: 0.234 | Acc: 93.000% (93/100)\n",
      "50 100 Loss: 0.383 | Acc: 88.647% (4521/5100)\n",
      "Saving..\n",
      "0 391 Loss: 0.214 | Acc: 92.969% (119/128)\n",
      "50 391 Loss: 0.184 | Acc: 93.627% (6112/6528)\n",
      "100 391 Loss: 0.191 | Acc: 93.317% (12064/12928)\n",
      "150 391 Loss: 0.187 | Acc: 93.445% (18061/19328)\n",
      "200 391 Loss: 0.188 | Acc: 93.443% (24041/25728)\n",
      "250 391 Loss: 0.189 | Acc: 93.367% (29997/32128)\n",
      "300 391 Loss: 0.190 | Acc: 93.436% (35999/38528)\n",
      "350 391 Loss: 0.191 | Acc: 93.432% (41977/44928)\n",
      "0 100 Loss: 0.266 | Acc: 90.000% (90/100)\n",
      "50 100 Loss: 0.338 | Acc: 89.882% (4584/5100)\n",
      "Saving..\n",
      "0 391 Loss: 0.098 | Acc: 98.438% (126/128)\n",
      "50 391 Loss: 0.178 | Acc: 93.719% (6118/6528)\n",
      "100 391 Loss: 0.172 | Acc: 94.152% (12172/12928)\n",
      "150 391 Loss: 0.174 | Acc: 94.050% (18178/19328)\n",
      "200 391 Loss: 0.177 | Acc: 93.847% (24145/25728)\n",
      "250 391 Loss: 0.177 | Acc: 93.812% (30140/32128)\n",
      "300 391 Loss: 0.175 | Acc: 93.846% (36157/38528)\n",
      "350 391 Loss: 0.175 | Acc: 93.841% (42161/44928)\n",
      "0 100 Loss: 0.273 | Acc: 92.000% (92/100)\n",
      "50 100 Loss: 0.365 | Acc: 89.235% (4551/5100)\n",
      "0 391 Loss: 0.185 | Acc: 95.312% (122/128)\n",
      "50 391 Loss: 0.165 | Acc: 94.179% (6148/6528)\n",
      "100 391 Loss: 0.154 | Acc: 94.732% (12247/12928)\n",
      "150 391 Loss: 0.157 | Acc: 94.650% (18294/19328)\n",
      "200 391 Loss: 0.156 | Acc: 94.590% (24336/25728)\n",
      "250 391 Loss: 0.157 | Acc: 94.500% (30361/32128)\n",
      "300 391 Loss: 0.156 | Acc: 94.498% (36408/38528)\n",
      "350 391 Loss: 0.158 | Acc: 94.427% (42424/44928)\n",
      "0 100 Loss: 0.244 | Acc: 91.000% (91/100)\n",
      "50 100 Loss: 0.349 | Acc: 89.529% (4566/5100)\n"
     ]
    }
   ],
   "source": [
    "for epoch in range(start_epoch, start_epoch+20):\n",
    "  train(epoch)\n",
    "  test(epoch)\n",
    "  scheduler.step()"
   ]
  },
  {
   "cell_type": "code",
   "execution_count": null,
   "metadata": {
    "colab": {
     "base_uri": "https://localhost:8080/"
    },
    "id": "uZrBaWGnAD0P",
    "outputId": "e2bffcd8-d07a-4b77-f6f9-3a742291c98d"
   },
   "outputs": [
    {
     "data": {
      "text/plain": [
       "89.62"
      ]
     },
     "execution_count": 31,
     "metadata": {
      "tags": []
     },
     "output_type": "execute_result"
    }
   ],
   "source": [
    "# ResNet18의 best_accuracy\n",
    "best_accuracy"
   ]
  },
  {
   "cell_type": "code",
   "execution_count": null,
   "metadata": {
    "id": "6QJGpRMfA9Xt"
   },
   "outputs": [],
   "source": [
    "best_accuracy = 0\n",
    "start_epoch = 0\n",
    "net = ResNet34()\n",
    "net = net.to(device)\n",
    "if device == 'cuda':\n",
    "  net = torch.nn.DataParallel(net)\n",
    "  cudnn.benchmark = True"
   ]
  },
  {
   "cell_type": "code",
   "execution_count": null,
   "metadata": {
    "colab": {
     "base_uri": "https://localhost:8080/",
     "height": 409
    },
    "id": "TOxUNX9Dl0Nh",
    "outputId": "9ce729a1-7f19-407a-9c6b-32dbb42dbc42"
   },
   "outputs": [
    {
     "name": "stdout",
     "output_type": "stream",
     "text": [
      "0 391 Loss: 2.662 | Acc: 11.719% (15/128)\n",
      "50 391 Loss: 2.707 | Acc: 10.463% (683/6528)\n",
      "100 391 Loss: 2.709 | Acc: 10.218% (1321/12928)\n"
     ]
    },
    {
     "ename": "KeyboardInterrupt",
     "evalue": "ignored",
     "output_type": "error",
     "traceback": [
      "\u001b[0;31m---------------------------------------------------------------------------\u001b[0m",
      "\u001b[0;31mKeyboardInterrupt\u001b[0m                         Traceback (most recent call last)",
      "\u001b[0;32m<ipython-input-37-c09439dd008c>\u001b[0m in \u001b[0;36m<module>\u001b[0;34m()\u001b[0m\n\u001b[1;32m      1\u001b[0m \u001b[0;32mfor\u001b[0m \u001b[0mepoch\u001b[0m \u001b[0;32min\u001b[0m \u001b[0mrange\u001b[0m\u001b[0;34m(\u001b[0m\u001b[0mstart_epoch\u001b[0m\u001b[0;34m,\u001b[0m \u001b[0mstart_epoch\u001b[0m\u001b[0;34m+\u001b[0m\u001b[0;36m100\u001b[0m\u001b[0;34m)\u001b[0m\u001b[0;34m:\u001b[0m\u001b[0;34m\u001b[0m\u001b[0;34m\u001b[0m\u001b[0m\n\u001b[0;32m----> 2\u001b[0;31m   \u001b[0mtrain\u001b[0m\u001b[0;34m(\u001b[0m\u001b[0mepoch\u001b[0m\u001b[0;34m)\u001b[0m\u001b[0;34m\u001b[0m\u001b[0;34m\u001b[0m\u001b[0m\n\u001b[0m\u001b[1;32m      3\u001b[0m   \u001b[0mtest\u001b[0m\u001b[0;34m(\u001b[0m\u001b[0mepoch\u001b[0m\u001b[0;34m)\u001b[0m\u001b[0;34m\u001b[0m\u001b[0;34m\u001b[0m\u001b[0m\n\u001b[1;32m      4\u001b[0m   \u001b[0mscheduler\u001b[0m\u001b[0;34m.\u001b[0m\u001b[0mstep\u001b[0m\u001b[0;34m(\u001b[0m\u001b[0;34m)\u001b[0m\u001b[0;34m\u001b[0m\u001b[0;34m\u001b[0m\u001b[0m\n",
      "\u001b[0;32m<ipython-input-28-aeb5991bf78d>\u001b[0m in \u001b[0;36mtrain\u001b[0;34m(epoch)\u001b[0m\n\u001b[1;32m     13\u001b[0m     \u001b[0moptimizer\u001b[0m\u001b[0;34m.\u001b[0m\u001b[0mstep\u001b[0m\u001b[0;34m(\u001b[0m\u001b[0;34m)\u001b[0m\u001b[0;34m\u001b[0m\u001b[0;34m\u001b[0m\u001b[0m\n\u001b[1;32m     14\u001b[0m \u001b[0;34m\u001b[0m\u001b[0m\n\u001b[0;32m---> 15\u001b[0;31m     \u001b[0mtrain_loss\u001b[0m \u001b[0;34m+=\u001b[0m \u001b[0mloss\u001b[0m\u001b[0;34m.\u001b[0m\u001b[0mitem\u001b[0m\u001b[0;34m(\u001b[0m\u001b[0;34m)\u001b[0m\u001b[0;34m\u001b[0m\u001b[0;34m\u001b[0m\u001b[0m\n\u001b[0m\u001b[1;32m     16\u001b[0m     \u001b[0m_\u001b[0m\u001b[0;34m,\u001b[0m \u001b[0mpredicted\u001b[0m \u001b[0;34m=\u001b[0m \u001b[0moutputs\u001b[0m\u001b[0;34m.\u001b[0m\u001b[0mmax\u001b[0m\u001b[0;34m(\u001b[0m\u001b[0;36m1\u001b[0m\u001b[0;34m)\u001b[0m\u001b[0;34m\u001b[0m\u001b[0;34m\u001b[0m\u001b[0m\n\u001b[1;32m     17\u001b[0m     \u001b[0mtotal\u001b[0m \u001b[0;34m+=\u001b[0m \u001b[0mtargets\u001b[0m\u001b[0;34m.\u001b[0m\u001b[0msize\u001b[0m\u001b[0;34m(\u001b[0m\u001b[0;36m0\u001b[0m\u001b[0;34m)\u001b[0m\u001b[0;34m\u001b[0m\u001b[0;34m\u001b[0m\u001b[0m\n",
      "\u001b[0;31mKeyboardInterrupt\u001b[0m: "
     ]
    }
   ],
   "source": [
    "for epoch in range(start_epoch, start_epoch+100):\n",
    "  train(epoch)\n",
    "  test(epoch)\n",
    "  scheduler.step()"
   ]
  },
  {
   "cell_type": "code",
   "execution_count": null,
   "metadata": {
    "id": "G8gyU1wPmEAT"
   },
   "outputs": [],
   "source": [
    "# ResNet34의 best_accuracy\n",
    "best_accuracy"
   ]
  },
  {
   "cell_type": "code",
   "execution_count": null,
   "metadata": {
    "colab": {
     "base_uri": "https://localhost:8080/",
     "height": 396
    },
    "id": "zylHDEHImJME",
    "outputId": "29065c2c-c572-4dcd-ec59-60f0a853a482"
   },
   "outputs": [
    {
     "ename": "NameError",
     "evalue": "ignored",
     "output_type": "error",
     "traceback": [
      "\u001b[0;31m---------------------------------------------------------------------------\u001b[0m",
      "\u001b[0;31mNameError\u001b[0m                                 Traceback (most recent call last)",
      "\u001b[0;32m<ipython-input-35-012e91ea58b7>\u001b[0m in \u001b[0;36m<module>\u001b[0;34m()\u001b[0m\n\u001b[1;32m      1\u001b[0m \u001b[0mbest_accuracy\u001b[0m \u001b[0;34m=\u001b[0m \u001b[0;36m0\u001b[0m\u001b[0;34m\u001b[0m\u001b[0;34m\u001b[0m\u001b[0m\n\u001b[1;32m      2\u001b[0m \u001b[0mstart_epoch\u001b[0m \u001b[0;34m=\u001b[0m \u001b[0;36m0\u001b[0m\u001b[0;34m\u001b[0m\u001b[0;34m\u001b[0m\u001b[0m\n\u001b[0;32m----> 3\u001b[0;31m \u001b[0mnet\u001b[0m \u001b[0;34m=\u001b[0m \u001b[0mResNet50\u001b[0m\u001b[0;34m(\u001b[0m\u001b[0;34m)\u001b[0m\u001b[0;34m\u001b[0m\u001b[0;34m\u001b[0m\u001b[0m\n\u001b[0m\u001b[1;32m      4\u001b[0m \u001b[0mnet\u001b[0m \u001b[0;34m=\u001b[0m \u001b[0mnet\u001b[0m\u001b[0;34m.\u001b[0m\u001b[0mto\u001b[0m\u001b[0;34m(\u001b[0m\u001b[0mdevice\u001b[0m\u001b[0;34m)\u001b[0m\u001b[0;34m\u001b[0m\u001b[0;34m\u001b[0m\u001b[0m\n\u001b[1;32m      5\u001b[0m \u001b[0;32mif\u001b[0m \u001b[0mdevice\u001b[0m \u001b[0;34m==\u001b[0m \u001b[0;34m'cuda'\u001b[0m\u001b[0;34m:\u001b[0m\u001b[0;34m\u001b[0m\u001b[0;34m\u001b[0m\u001b[0m\n",
      "\u001b[0;32m<ipython-input-5-f9df4e08fd06>\u001b[0m in \u001b[0;36mResNet50\u001b[0;34m()\u001b[0m\n\u001b[1;32m      6\u001b[0m \u001b[0;34m\u001b[0m\u001b[0m\n\u001b[1;32m      7\u001b[0m \u001b[0;32mdef\u001b[0m \u001b[0mResNet50\u001b[0m\u001b[0;34m(\u001b[0m\u001b[0;34m)\u001b[0m\u001b[0;34m:\u001b[0m\u001b[0;34m\u001b[0m\u001b[0;34m\u001b[0m\u001b[0m\n\u001b[0;32m----> 8\u001b[0;31m   \u001b[0;32mreturn\u001b[0m \u001b[0mResNet\u001b[0m\u001b[0;34m(\u001b[0m\u001b[0mBottleneck\u001b[0m\u001b[0;34m,\u001b[0m \u001b[0;34m[\u001b[0m\u001b[0;36m3\u001b[0m\u001b[0;34m,\u001b[0m \u001b[0;36m4\u001b[0m\u001b[0;34m,\u001b[0m \u001b[0;36m6\u001b[0m\u001b[0;34m,\u001b[0m \u001b[0;36m3\u001b[0m\u001b[0;34m]\u001b[0m\u001b[0;34m)\u001b[0m\u001b[0;34m\u001b[0m\u001b[0;34m\u001b[0m\u001b[0m\n\u001b[0m\u001b[1;32m      9\u001b[0m \u001b[0;34m\u001b[0m\u001b[0m\n\u001b[1;32m     10\u001b[0m \u001b[0;32mdef\u001b[0m \u001b[0mResNet101\u001b[0m\u001b[0;34m(\u001b[0m\u001b[0;34m)\u001b[0m\u001b[0;34m:\u001b[0m\u001b[0;34m\u001b[0m\u001b[0;34m\u001b[0m\u001b[0m\n",
      "\u001b[0;32m<ipython-input-4-eed69a8e239e>\u001b[0m in \u001b[0;36m__init__\u001b[0;34m(self, block, num_blocks, num_classes)\u001b[0m\n\u001b[1;32m      8\u001b[0m     \u001b[0mself\u001b[0m\u001b[0;34m.\u001b[0m\u001b[0mbn1\u001b[0m \u001b[0;34m=\u001b[0m \u001b[0mnn\u001b[0m\u001b[0;34m.\u001b[0m\u001b[0mBatchNorm2d\u001b[0m\u001b[0;34m(\u001b[0m\u001b[0;36m64\u001b[0m\u001b[0;34m)\u001b[0m\u001b[0;34m\u001b[0m\u001b[0;34m\u001b[0m\u001b[0m\n\u001b[1;32m      9\u001b[0m \u001b[0;34m\u001b[0m\u001b[0m\n\u001b[0;32m---> 10\u001b[0;31m     \u001b[0mself\u001b[0m\u001b[0;34m.\u001b[0m\u001b[0mlayer1\u001b[0m \u001b[0;34m=\u001b[0m \u001b[0mself\u001b[0m\u001b[0;34m.\u001b[0m\u001b[0m_make_layer\u001b[0m\u001b[0;34m(\u001b[0m\u001b[0mblock\u001b[0m\u001b[0;34m,\u001b[0m \u001b[0;36m64\u001b[0m\u001b[0;34m,\u001b[0m \u001b[0mnum_blocks\u001b[0m\u001b[0;34m[\u001b[0m\u001b[0;36m0\u001b[0m\u001b[0;34m]\u001b[0m\u001b[0;34m,\u001b[0m \u001b[0mstride\u001b[0m\u001b[0;34m=\u001b[0m\u001b[0;36m1\u001b[0m\u001b[0;34m)\u001b[0m\u001b[0;34m\u001b[0m\u001b[0;34m\u001b[0m\u001b[0m\n\u001b[0m\u001b[1;32m     11\u001b[0m     \u001b[0mself\u001b[0m\u001b[0;34m.\u001b[0m\u001b[0mlayer2\u001b[0m \u001b[0;34m=\u001b[0m \u001b[0mself\u001b[0m\u001b[0;34m.\u001b[0m\u001b[0m_make_layer\u001b[0m\u001b[0;34m(\u001b[0m\u001b[0mblock\u001b[0m\u001b[0;34m,\u001b[0m \u001b[0;36m128\u001b[0m\u001b[0;34m,\u001b[0m \u001b[0mnum_blocks\u001b[0m\u001b[0;34m[\u001b[0m\u001b[0;36m1\u001b[0m\u001b[0;34m]\u001b[0m\u001b[0;34m,\u001b[0m \u001b[0mstride\u001b[0m\u001b[0;34m=\u001b[0m\u001b[0;36m2\u001b[0m\u001b[0;34m)\u001b[0m\u001b[0;34m\u001b[0m\u001b[0;34m\u001b[0m\u001b[0m\n\u001b[1;32m     12\u001b[0m     \u001b[0mself\u001b[0m\u001b[0;34m.\u001b[0m\u001b[0mlayer3\u001b[0m \u001b[0;34m=\u001b[0m \u001b[0mself\u001b[0m\u001b[0;34m.\u001b[0m\u001b[0m_make_layer\u001b[0m\u001b[0;34m(\u001b[0m\u001b[0mblock\u001b[0m\u001b[0;34m,\u001b[0m \u001b[0;36m256\u001b[0m\u001b[0;34m,\u001b[0m \u001b[0mnum_blocks\u001b[0m\u001b[0;34m[\u001b[0m\u001b[0;36m2\u001b[0m\u001b[0;34m]\u001b[0m\u001b[0;34m,\u001b[0m \u001b[0mstride\u001b[0m\u001b[0;34m=\u001b[0m\u001b[0;36m2\u001b[0m\u001b[0;34m)\u001b[0m\u001b[0;34m\u001b[0m\u001b[0;34m\u001b[0m\u001b[0m\n",
      "\u001b[0;32m<ipython-input-4-eed69a8e239e>\u001b[0m in \u001b[0;36m_make_layer\u001b[0;34m(self, block, planes, num_blocks, stride)\u001b[0m\n\u001b[1;32m     21\u001b[0m \u001b[0;34m\u001b[0m\u001b[0m\n\u001b[1;32m     22\u001b[0m     \u001b[0;32mfor\u001b[0m \u001b[0mstride\u001b[0m \u001b[0;32min\u001b[0m \u001b[0mstrides\u001b[0m\u001b[0;34m:\u001b[0m\u001b[0;34m\u001b[0m\u001b[0;34m\u001b[0m\u001b[0m\n\u001b[0;32m---> 23\u001b[0;31m       \u001b[0mlayers\u001b[0m\u001b[0;34m.\u001b[0m\u001b[0mappend\u001b[0m\u001b[0;34m(\u001b[0m\u001b[0mblock\u001b[0m\u001b[0;34m(\u001b[0m\u001b[0mself\u001b[0m\u001b[0;34m.\u001b[0m\u001b[0min_planes\u001b[0m\u001b[0;34m,\u001b[0m \u001b[0mplanes\u001b[0m\u001b[0;34m,\u001b[0m \u001b[0mstride\u001b[0m\u001b[0;34m)\u001b[0m\u001b[0;34m)\u001b[0m\u001b[0;34m\u001b[0m\u001b[0;34m\u001b[0m\u001b[0m\n\u001b[0m\u001b[1;32m     24\u001b[0m       \u001b[0mself\u001b[0m\u001b[0;34m.\u001b[0m\u001b[0min_planes\u001b[0m \u001b[0;34m=\u001b[0m \u001b[0mplanes\u001b[0m \u001b[0;34m*\u001b[0m \u001b[0mblock\u001b[0m\u001b[0;34m.\u001b[0m\u001b[0mexpansion\u001b[0m\u001b[0;34m\u001b[0m\u001b[0;34m\u001b[0m\u001b[0m\n\u001b[1;32m     25\u001b[0m     \u001b[0;32mreturn\u001b[0m \u001b[0mnn\u001b[0m\u001b[0;34m.\u001b[0m\u001b[0mSequential\u001b[0m\u001b[0;34m(\u001b[0m\u001b[0;34m*\u001b[0m\u001b[0mlayers\u001b[0m\u001b[0;34m)\u001b[0m\u001b[0;34m\u001b[0m\u001b[0;34m\u001b[0m\u001b[0m\n",
      "\u001b[0;32m<ipython-input-3-6876ad12d61d>\u001b[0m in \u001b[0;36m__init__\u001b[0;34m(self, in_planes, planes, stride)\u001b[0m\n\u001b[1;32m      5\u001b[0m   \u001b[0;32mdef\u001b[0m \u001b[0m__init__\u001b[0m\u001b[0;34m(\u001b[0m\u001b[0mself\u001b[0m\u001b[0;34m,\u001b[0m\u001b[0min_planes\u001b[0m\u001b[0;34m,\u001b[0m \u001b[0mplanes\u001b[0m\u001b[0;34m,\u001b[0m \u001b[0mstride\u001b[0m\u001b[0;34m=\u001b[0m\u001b[0;36m1\u001b[0m\u001b[0;34m)\u001b[0m\u001b[0;34m:\u001b[0m\u001b[0;34m\u001b[0m\u001b[0;34m\u001b[0m\u001b[0m\n\u001b[1;32m      6\u001b[0m     \u001b[0msuper\u001b[0m\u001b[0;34m(\u001b[0m\u001b[0mBottleneck\u001b[0m\u001b[0;34m,\u001b[0m\u001b[0mself\u001b[0m\u001b[0;34m)\u001b[0m\u001b[0;34m.\u001b[0m\u001b[0m__init__\u001b[0m\u001b[0;34m(\u001b[0m\u001b[0;34m)\u001b[0m\u001b[0;34m\u001b[0m\u001b[0;34m\u001b[0m\u001b[0m\n\u001b[0;32m----> 7\u001b[0;31m     \u001b[0mself\u001b[0m\u001b[0;34m.\u001b[0m\u001b[0mconv1\u001b[0m \u001b[0;34m=\u001b[0m \u001b[0mnn\u001b[0m\u001b[0;34m.\u001b[0m\u001b[0mConv2d\u001b[0m\u001b[0;34m(\u001b[0m\u001b[0min_planes\u001b[0m\u001b[0;34m,\u001b[0m \u001b[0mplanes\u001b[0m\u001b[0;34m,\u001b[0m\u001b[0mkernel_size\u001b[0m\u001b[0;34m=\u001b[0m\u001b[0;36m1\u001b[0m\u001b[0;34m,\u001b[0m\u001b[0mbias\u001b[0m\u001b[0;34m=\u001b[0m\u001b[0mFalse0\u001b[0m\u001b[0;34m)\u001b[0m\u001b[0;34m\u001b[0m\u001b[0;34m\u001b[0m\u001b[0m\n\u001b[0m\u001b[1;32m      8\u001b[0m     \u001b[0mself\u001b[0m\u001b[0;34m.\u001b[0m\u001b[0mbn1\u001b[0m \u001b[0;34m=\u001b[0m \u001b[0mnn\u001b[0m\u001b[0;34m.\u001b[0m\u001b[0mBatchNorm2d\u001b[0m\u001b[0;34m(\u001b[0m\u001b[0mplanes\u001b[0m\u001b[0;34m)\u001b[0m\u001b[0;34m\u001b[0m\u001b[0;34m\u001b[0m\u001b[0m\n\u001b[1;32m      9\u001b[0m \u001b[0;34m\u001b[0m\u001b[0m\n",
      "\u001b[0;31mNameError\u001b[0m: name 'False0' is not defined"
     ]
    }
   ],
   "source": [
    "best_accuracy = 0\n",
    "start_epoch = 0\n",
    "net = ResNet50()\n",
    "net = net.to(device)\n",
    "if device == 'cuda':\n",
    "  net = torch.nn.DataParallel(net)\n",
    "  cudnn.benchmark = True\n",
    "\n",
    "for epoch in range(start_epoch, start_epoch+20):\n",
    "  train(epoch)\n",
    "  test(epoch)\n",
    "  scheduler.step()"
   ]
  },
  {
   "cell_type": "code",
   "execution_count": null,
   "metadata": {
    "id": "zK1KBnjvmUr7"
   },
   "outputs": [],
   "source": [
    "# ResNet50의 best_accuracy\n",
    "best_accuracy"
   ]
  },
  {
   "cell_type": "code",
   "execution_count": null,
   "metadata": {
    "id": "vwTqD66cmWtr"
   },
   "outputs": [],
   "source": []
  }
 ],
 "metadata": {
  "accelerator": "GPU",
  "colab": {
   "collapsed_sections": [],
   "name": "ResNet.ipynb",
   "provenance": []
  },
  "kernelspec": {
   "display_name": "Python 3 (ipykernel)",
   "language": "python",
   "name": "python3"
  },
  "language_info": {
   "codemirror_mode": {
    "name": "ipython",
    "version": 3
   },
   "file_extension": ".py",
   "mimetype": "text/x-python",
   "name": "python",
   "nbconvert_exporter": "python",
   "pygments_lexer": "ipython3",
   "version": "3.9.6"
  },
  "widgets": {
   "application/vnd.jupyter.widget-state+json": {
    "2175f53faabb47819bbcd5dd96c0adb4": {
     "model_module": "@jupyter-widgets/controls",
     "model_module_version": "1.5.0",
     "model_name": "DescriptionStyleModel",
     "state": {
      "_model_module": "@jupyter-widgets/controls",
      "_model_module_version": "1.5.0",
      "_model_name": "DescriptionStyleModel",
      "_view_count": null,
      "_view_module": "@jupyter-widgets/base",
      "_view_module_version": "1.2.0",
      "_view_name": "StyleView",
      "description_width": ""
     }
    },
    "359abfa0a8814c2fb687e504afb9d835": {
     "model_module": "@jupyter-widgets/controls",
     "model_module_version": "1.5.0",
     "model_name": "ProgressStyleModel",
     "state": {
      "_model_module": "@jupyter-widgets/controls",
      "_model_module_version": "1.5.0",
      "_model_name": "ProgressStyleModel",
      "_view_count": null,
      "_view_module": "@jupyter-widgets/base",
      "_view_module_version": "1.2.0",
      "_view_name": "StyleView",
      "bar_color": null,
      "description_width": "initial"
     }
    },
    "3d36621726e14a75ba3fc2d47aeaa88c": {
     "model_module": "@jupyter-widgets/controls",
     "model_module_version": "1.5.0",
     "model_name": "FloatProgressModel",
     "state": {
      "_dom_classes": [],
      "_model_module": "@jupyter-widgets/controls",
      "_model_module_version": "1.5.0",
      "_model_name": "FloatProgressModel",
      "_view_count": null,
      "_view_module": "@jupyter-widgets/controls",
      "_view_module_version": "1.5.0",
      "_view_name": "ProgressView",
      "bar_style": "success",
      "description": "",
      "description_tooltip": null,
      "layout": "IPY_MODEL_c4d52313029b4257811dadfabb5b711d",
      "max": 170498071,
      "min": 0,
      "orientation": "horizontal",
      "style": "IPY_MODEL_359abfa0a8814c2fb687e504afb9d835",
      "value": 170498071
     }
    },
    "401a26bb1a0140a08cf3f9ee13bb4bcd": {
     "model_module": "@jupyter-widgets/controls",
     "model_module_version": "1.5.0",
     "model_name": "HBoxModel",
     "state": {
      "_dom_classes": [],
      "_model_module": "@jupyter-widgets/controls",
      "_model_module_version": "1.5.0",
      "_model_name": "HBoxModel",
      "_view_count": null,
      "_view_module": "@jupyter-widgets/controls",
      "_view_module_version": "1.5.0",
      "_view_name": "HBoxView",
      "box_style": "",
      "children": [
       "IPY_MODEL_3d36621726e14a75ba3fc2d47aeaa88c",
       "IPY_MODEL_bc259651741840a584d1879a215bb1a9"
      ],
      "layout": "IPY_MODEL_829f85f05d7d4f3d91cf84e0d5391667"
     }
    },
    "7560ab8ebd2a44718fb3694822794271": {
     "model_module": "@jupyter-widgets/base",
     "model_module_version": "1.2.0",
     "model_name": "LayoutModel",
     "state": {
      "_model_module": "@jupyter-widgets/base",
      "_model_module_version": "1.2.0",
      "_model_name": "LayoutModel",
      "_view_count": null,
      "_view_module": "@jupyter-widgets/base",
      "_view_module_version": "1.2.0",
      "_view_name": "LayoutView",
      "align_content": null,
      "align_items": null,
      "align_self": null,
      "border": null,
      "bottom": null,
      "display": null,
      "flex": null,
      "flex_flow": null,
      "grid_area": null,
      "grid_auto_columns": null,
      "grid_auto_flow": null,
      "grid_auto_rows": null,
      "grid_column": null,
      "grid_gap": null,
      "grid_row": null,
      "grid_template_areas": null,
      "grid_template_columns": null,
      "grid_template_rows": null,
      "height": null,
      "justify_content": null,
      "justify_items": null,
      "left": null,
      "margin": null,
      "max_height": null,
      "max_width": null,
      "min_height": null,
      "min_width": null,
      "object_fit": null,
      "object_position": null,
      "order": null,
      "overflow": null,
      "overflow_x": null,
      "overflow_y": null,
      "padding": null,
      "right": null,
      "top": null,
      "visibility": null,
      "width": null
     }
    },
    "829f85f05d7d4f3d91cf84e0d5391667": {
     "model_module": "@jupyter-widgets/base",
     "model_module_version": "1.2.0",
     "model_name": "LayoutModel",
     "state": {
      "_model_module": "@jupyter-widgets/base",
      "_model_module_version": "1.2.0",
      "_model_name": "LayoutModel",
      "_view_count": null,
      "_view_module": "@jupyter-widgets/base",
      "_view_module_version": "1.2.0",
      "_view_name": "LayoutView",
      "align_content": null,
      "align_items": null,
      "align_self": null,
      "border": null,
      "bottom": null,
      "display": null,
      "flex": null,
      "flex_flow": null,
      "grid_area": null,
      "grid_auto_columns": null,
      "grid_auto_flow": null,
      "grid_auto_rows": null,
      "grid_column": null,
      "grid_gap": null,
      "grid_row": null,
      "grid_template_areas": null,
      "grid_template_columns": null,
      "grid_template_rows": null,
      "height": null,
      "justify_content": null,
      "justify_items": null,
      "left": null,
      "margin": null,
      "max_height": null,
      "max_width": null,
      "min_height": null,
      "min_width": null,
      "object_fit": null,
      "object_position": null,
      "order": null,
      "overflow": null,
      "overflow_x": null,
      "overflow_y": null,
      "padding": null,
      "right": null,
      "top": null,
      "visibility": null,
      "width": null
     }
    },
    "bc259651741840a584d1879a215bb1a9": {
     "model_module": "@jupyter-widgets/controls",
     "model_module_version": "1.5.0",
     "model_name": "HTMLModel",
     "state": {
      "_dom_classes": [],
      "_model_module": "@jupyter-widgets/controls",
      "_model_module_version": "1.5.0",
      "_model_name": "HTMLModel",
      "_view_count": null,
      "_view_module": "@jupyter-widgets/controls",
      "_view_module_version": "1.5.0",
      "_view_name": "HTMLView",
      "description": "",
      "description_tooltip": null,
      "layout": "IPY_MODEL_7560ab8ebd2a44718fb3694822794271",
      "placeholder": "​",
      "style": "IPY_MODEL_2175f53faabb47819bbcd5dd96c0adb4",
      "value": " 170499072/? [00:11&lt;00:00, 14563025.79it/s]"
     }
    },
    "c4d52313029b4257811dadfabb5b711d": {
     "model_module": "@jupyter-widgets/base",
     "model_module_version": "1.2.0",
     "model_name": "LayoutModel",
     "state": {
      "_model_module": "@jupyter-widgets/base",
      "_model_module_version": "1.2.0",
      "_model_name": "LayoutModel",
      "_view_count": null,
      "_view_module": "@jupyter-widgets/base",
      "_view_module_version": "1.2.0",
      "_view_name": "LayoutView",
      "align_content": null,
      "align_items": null,
      "align_self": null,
      "border": null,
      "bottom": null,
      "display": null,
      "flex": null,
      "flex_flow": null,
      "grid_area": null,
      "grid_auto_columns": null,
      "grid_auto_flow": null,
      "grid_auto_rows": null,
      "grid_column": null,
      "grid_gap": null,
      "grid_row": null,
      "grid_template_areas": null,
      "grid_template_columns": null,
      "grid_template_rows": null,
      "height": null,
      "justify_content": null,
      "justify_items": null,
      "left": null,
      "margin": null,
      "max_height": null,
      "max_width": null,
      "min_height": null,
      "min_width": null,
      "object_fit": null,
      "object_position": null,
      "order": null,
      "overflow": null,
      "overflow_x": null,
      "overflow_y": null,
      "padding": null,
      "right": null,
      "top": null,
      "visibility": null,
      "width": null
     }
    }
   }
  }
 },
 "nbformat": 4,
 "nbformat_minor": 1
}
