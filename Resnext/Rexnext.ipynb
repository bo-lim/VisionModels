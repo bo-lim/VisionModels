{
 "cells": [
  {
   "cell_type": "code",
   "execution_count": 4,
   "id": "f2d74796",
   "metadata": {},
   "outputs": [],
   "source": [
    "import torch\n",
    "import torch.nn as nn\n",
    "import torch.nn.functional as F\n",
    "import torch.nn.init as init\n",
    "from torch.autograd import Variable\n",
    "from torchsummary import summary\n",
    "import math\n",
    "import torchvision\n",
    "import torchvision.transforms as transforms\n",
    "import torch.backends.cudnn as cudnn\n",
    "import torch.optim as optim\n",
    "import os\n",
    "import argparse\n",
    "from torch.utils.tensorboard import SummaryWriter"
   ]
  },
  {
   "cell_type": "code",
   "execution_count": 1,
   "id": "d142f1ee",
   "metadata": {},
   "outputs": [],
   "source": [
    "import torch\n",
    "import torch.nn as nn\n",
    "import torch.nn.functional as F\n",
    "\n",
    "\n",
    "class Block(nn.Module):\n",
    "    '''Grouped convolution block.'''\n",
    "    expansion = 2\n",
    "\n",
    "    def __init__(self, in_planes, cardinality=32, bottleneck_width=4, stride=1):\n",
    "        super(Block, self).__init__()\n",
    "        group_width = cardinality * bottleneck_width\n",
    "        self.conv1 = nn.Conv2d(in_planes, group_width, kernel_size=1, bias=False)\n",
    "        self.bn1 = nn.BatchNorm2d(group_width)\n",
    "        self.conv2 = nn.Conv2d(group_width, group_width, kernel_size=3, stride=stride, padding=1, groups=cardinality, bias=False)\n",
    "        self.bn2 = nn.BatchNorm2d(group_width)\n",
    "        self.conv3 = nn.Conv2d(group_width, self.expansion*group_width, kernel_size=1, bias=False)\n",
    "        self.bn3 = nn.BatchNorm2d(self.expansion*group_width)\n",
    "\n",
    "        self.shortcut = nn.Sequential()\n",
    "        if stride != 1 or in_planes != self.expansion*group_width:\n",
    "            self.shortcut = nn.Sequential(\n",
    "                nn.Conv2d(in_planes, self.expansion*group_width, kernel_size=1, stride=stride, bias=False),\n",
    "                nn.BatchNorm2d(self.expansion*group_width)\n",
    "            )\n",
    "\n",
    "    def forward(self, x):\n",
    "        out = F.relu(self.bn1(self.conv1(x)))\n",
    "        out = F.relu(self.bn2(self.conv2(out)))\n",
    "        out = self.bn3(self.conv3(out))\n",
    "        out += self.shortcut(x)\n",
    "        out = F.relu(out)\n",
    "        return out\n",
    "\n",
    "\n",
    "class ResNeXt(nn.Module):\n",
    "    def __init__(self, num_blocks, cardinality, bottleneck_width, num_classes=10):\n",
    "        super(ResNeXt, self).__init__()\n",
    "        self.cardinality = cardinality\n",
    "        self.bottleneck_width = bottleneck_width\n",
    "        self.in_planes = 64\n",
    "\n",
    "        self.conv1 = nn.Conv2d(3, 64, kernel_size=1, bias=False)\n",
    "        self.bn1 = nn.BatchNorm2d(64)\n",
    "        self.layer1 = self._make_layer(num_blocks[0], 1)\n",
    "        self.layer2 = self._make_layer(num_blocks[1], 2)\n",
    "        self.layer3 = self._make_layer(num_blocks[2], 2)\n",
    "        # self.layer4 = self._make_layer(num_blocks[3], 2)\n",
    "        self.linear = nn.Linear(cardinality*bottleneck_width*8, num_classes)\n",
    "\n",
    "    def _make_layer(self, num_blocks, stride):\n",
    "        strides = [stride] + [1]*(num_blocks-1)\n",
    "        layers = []\n",
    "        for stride in strides:\n",
    "            layers.append(Block(self.in_planes, self.cardinality, self.bottleneck_width, stride))\n",
    "            self.in_planes = Block.expansion * self.cardinality * self.bottleneck_width\n",
    "        # Increase bottleneck_width by 2 after each stage.\n",
    "        self.bottleneck_width *= 2\n",
    "        return nn.Sequential(*layers)\n",
    "\n",
    "    def forward(self, x):\n",
    "        out = F.relu(self.bn1(self.conv1(x)))\n",
    "        out = self.layer1(out)\n",
    "        out = self.layer2(out)\n",
    "        out = self.layer3(out)\n",
    "        # out = self.layer4(out)\n",
    "        out = F.avg_pool2d(out, 8)\n",
    "        out = out.view(out.size(0), -1)\n",
    "        out = self.linear(out)\n",
    "        return out\n",
    "\n",
    "\n",
    "def ResNeXt29_2x64d():\n",
    "    return ResNeXt(num_blocks=[3,3,3], cardinality=2, bottleneck_width=64)\n",
    "\n",
    "def ResNeXt29_4x64d():\n",
    "    return ResNeXt(num_blocks=[3,3,3], cardinality=4, bottleneck_width=64)\n",
    "\n",
    "def ResNeXt29_8x64d():\n",
    "    return ResNeXt(num_blocks=[3,3,3], cardinality=8, bottleneck_width=64)\n",
    "\n",
    "def ResNeXt29_32x4d():\n",
    "    return ResNeXt(num_blocks=[3,3,3], cardinality=32, bottleneck_width=4)"
   ]
  },
  {
   "cell_type": "code",
   "execution_count": 2,
   "id": "6142d5a3",
   "metadata": {},
   "outputs": [],
   "source": [
    "device = 'cuda' if torch.cuda.is_available() else 'cpu'"
   ]
  },
  {
   "cell_type": "code",
   "execution_count": 5,
   "id": "2f55a670",
   "metadata": {},
   "outputs": [
    {
     "name": "stdout",
     "output_type": "stream",
     "text": [
      "Downloading https://www.cs.toronto.edu/~kriz/cifar-10-python.tar.gz to ./data/cifar-10-python.tar.gz\n"
     ]
    },
    {
     "name": "stderr",
     "output_type": "stream",
     "text": [
      "170500096it [00:11, 14275818.68it/s]                               \n"
     ]
    },
    {
     "name": "stdout",
     "output_type": "stream",
     "text": [
      "Extracting ./data/cifar-10-python.tar.gz to ./data\n",
      "Files already downloaded and verified\n"
     ]
    }
   ],
   "source": [
    "transform_train = transforms.Compose([\n",
    "                                      transforms.RandomCrop(32, padding=4),\n",
    "                                      transforms.RandomHorizontalFlip(),\n",
    "                                      transforms.ToTensor(),\n",
    "                                      transforms.Normalize((0.4914, 0.4822, 0.4465), (0.2023, 0.1994, 0.2010))\n",
    "])\n",
    "\n",
    "transform_test = transforms.Compose([\n",
    "                                     transforms.ToTensor(),\n",
    "                                     transforms.Normalize((0.4914, 0.4822, 0.4465), (0.2023, 0.1994, 0.2010))\n",
    "])\n",
    "\n",
    "trainset = torchvision.datasets.CIFAR10(\n",
    "    root='./data',train=True,download=True,transform=transform_train)\n",
    "trainloader = torch.utils.data.DataLoader(\n",
    "    trainset, batch_size=128,shuffle=True,num_workers=2\n",
    ")\n",
    "testset = torchvision.datasets.CIFAR10(\n",
    "    root='./data',train=False,download=True,transform=transform_test)\n",
    "testloader = torch.utils.data.DataLoader(\n",
    "    testset, batch_size=100,shuffle=False,num_workers=2\n",
    ")\n",
    "classes=('plane','car','bird','cat','deer','dog','frog','horse','ship','truck')"
   ]
  },
  {
   "cell_type": "code",
   "execution_count": 6,
   "id": "480db66d",
   "metadata": {},
   "outputs": [
    {
     "name": "stdout",
     "output_type": "stream",
     "text": [
      "----------------------------------------------------------------\n",
      "        Layer (type)               Output Shape         Param #\n",
      "================================================================\n",
      "            Conv2d-1           [-1, 64, 32, 32]             192\n",
      "       BatchNorm2d-2           [-1, 64, 32, 32]             128\n",
      "            Conv2d-3          [-1, 128, 32, 32]           8,192\n",
      "       BatchNorm2d-4          [-1, 128, 32, 32]             256\n",
      "            Conv2d-5          [-1, 128, 32, 32]          73,728\n",
      "       BatchNorm2d-6          [-1, 128, 32, 32]             256\n",
      "            Conv2d-7          [-1, 256, 32, 32]          32,768\n",
      "       BatchNorm2d-8          [-1, 256, 32, 32]             512\n",
      "            Conv2d-9          [-1, 256, 32, 32]          16,384\n",
      "      BatchNorm2d-10          [-1, 256, 32, 32]             512\n",
      "            Block-11          [-1, 256, 32, 32]               0\n",
      "           Conv2d-12          [-1, 128, 32, 32]          32,768\n",
      "      BatchNorm2d-13          [-1, 128, 32, 32]             256\n",
      "           Conv2d-14          [-1, 128, 32, 32]          73,728\n",
      "      BatchNorm2d-15          [-1, 128, 32, 32]             256\n",
      "           Conv2d-16          [-1, 256, 32, 32]          32,768\n",
      "      BatchNorm2d-17          [-1, 256, 32, 32]             512\n",
      "            Block-18          [-1, 256, 32, 32]               0\n",
      "           Conv2d-19          [-1, 128, 32, 32]          32,768\n",
      "      BatchNorm2d-20          [-1, 128, 32, 32]             256\n",
      "           Conv2d-21          [-1, 128, 32, 32]          73,728\n",
      "      BatchNorm2d-22          [-1, 128, 32, 32]             256\n",
      "           Conv2d-23          [-1, 256, 32, 32]          32,768\n",
      "      BatchNorm2d-24          [-1, 256, 32, 32]             512\n",
      "            Block-25          [-1, 256, 32, 32]               0\n",
      "           Conv2d-26          [-1, 256, 32, 32]          65,536\n",
      "      BatchNorm2d-27          [-1, 256, 32, 32]             512\n",
      "           Conv2d-28          [-1, 256, 16, 16]         294,912\n",
      "      BatchNorm2d-29          [-1, 256, 16, 16]             512\n",
      "           Conv2d-30          [-1, 512, 16, 16]         131,072\n",
      "      BatchNorm2d-31          [-1, 512, 16, 16]           1,024\n",
      "           Conv2d-32          [-1, 512, 16, 16]         131,072\n",
      "      BatchNorm2d-33          [-1, 512, 16, 16]           1,024\n",
      "            Block-34          [-1, 512, 16, 16]               0\n",
      "           Conv2d-35          [-1, 256, 16, 16]         131,072\n",
      "      BatchNorm2d-36          [-1, 256, 16, 16]             512\n",
      "           Conv2d-37          [-1, 256, 16, 16]         294,912\n",
      "      BatchNorm2d-38          [-1, 256, 16, 16]             512\n",
      "           Conv2d-39          [-1, 512, 16, 16]         131,072\n",
      "      BatchNorm2d-40          [-1, 512, 16, 16]           1,024\n",
      "            Block-41          [-1, 512, 16, 16]               0\n",
      "           Conv2d-42          [-1, 256, 16, 16]         131,072\n",
      "      BatchNorm2d-43          [-1, 256, 16, 16]             512\n",
      "           Conv2d-44          [-1, 256, 16, 16]         294,912\n",
      "      BatchNorm2d-45          [-1, 256, 16, 16]             512\n",
      "           Conv2d-46          [-1, 512, 16, 16]         131,072\n",
      "      BatchNorm2d-47          [-1, 512, 16, 16]           1,024\n",
      "            Block-48          [-1, 512, 16, 16]               0\n",
      "           Conv2d-49          [-1, 512, 16, 16]         262,144\n",
      "      BatchNorm2d-50          [-1, 512, 16, 16]           1,024\n",
      "           Conv2d-51            [-1, 512, 8, 8]       1,179,648\n",
      "      BatchNorm2d-52            [-1, 512, 8, 8]           1,024\n",
      "           Conv2d-53           [-1, 1024, 8, 8]         524,288\n",
      "      BatchNorm2d-54           [-1, 1024, 8, 8]           2,048\n",
      "           Conv2d-55           [-1, 1024, 8, 8]         524,288\n",
      "      BatchNorm2d-56           [-1, 1024, 8, 8]           2,048\n",
      "            Block-57           [-1, 1024, 8, 8]               0\n",
      "           Conv2d-58            [-1, 512, 8, 8]         524,288\n",
      "      BatchNorm2d-59            [-1, 512, 8, 8]           1,024\n",
      "           Conv2d-60            [-1, 512, 8, 8]       1,179,648\n",
      "      BatchNorm2d-61            [-1, 512, 8, 8]           1,024\n",
      "           Conv2d-62           [-1, 1024, 8, 8]         524,288\n",
      "      BatchNorm2d-63           [-1, 1024, 8, 8]           2,048\n",
      "            Block-64           [-1, 1024, 8, 8]               0\n",
      "           Conv2d-65            [-1, 512, 8, 8]         524,288\n",
      "      BatchNorm2d-66            [-1, 512, 8, 8]           1,024\n",
      "           Conv2d-67            [-1, 512, 8, 8]       1,179,648\n",
      "      BatchNorm2d-68            [-1, 512, 8, 8]           1,024\n",
      "           Conv2d-69           [-1, 1024, 8, 8]         524,288\n",
      "      BatchNorm2d-70           [-1, 1024, 8, 8]           2,048\n",
      "            Block-71           [-1, 1024, 8, 8]               0\n",
      "           Linear-72                   [-1, 10]          10,250\n",
      "================================================================\n",
      "Total params: 9,128,778\n",
      "Trainable params: 9,128,778\n",
      "Non-trainable params: 0\n",
      "----------------------------------------------------------------\n",
      "Input size (MB): 0.01\n",
      "Forward/backward pass size (MB): 65.00\n",
      "Params size (MB): 34.82\n",
      "Estimated Total Size (MB): 99.84\n",
      "----------------------------------------------------------------\n"
     ]
    }
   ],
   "source": [
    "model = ResNeXt29_2x64d()\n",
    "summary(model, input_size=(3,32,32), device='cpu')"
   ]
  },
  {
   "cell_type": "code",
   "execution_count": 7,
   "id": "6aa184d1",
   "metadata": {},
   "outputs": [],
   "source": [
    "def train(epoch,writer):\n",
    "    net.train()\n",
    "    train_loss = 0\n",
    "    correct = 0\n",
    "    total = 0\n",
    "    for batch_idx, (inputs, targets) in enumerate(trainloader):\n",
    "        inputs, targets = inputs.to(device), targets.to(device)\n",
    "        \n",
    "        optimizer.zero_grad()\n",
    "        outputs = net(inputs)\n",
    "        loss = criterion(outputs, targets)\n",
    "        loss.backward()\n",
    "        optimizer.step()\n",
    "        \n",
    "        train_loss += loss.item()\n",
    "        _, predicted = outputs.max(1)\n",
    "        total += targets.size(0)\n",
    "        correct += predicted.eq(targets).sum().item()\n",
    "        \n",
    "        if batch_idx % 10 == 0:\n",
    "            print(batch_idx, len(trainloader), 'Loss: %.3f | Acc: %.3f%% (%d/%d)'%(train_loss/(batch_idx+1), 100.*correct/total, correct, total))\n",
    "    writer.add_scalar('training acc',100.*correct/total,epoch)"
   ]
  },
  {
   "cell_type": "code",
   "execution_count": 8,
   "id": "c5481a31",
   "metadata": {},
   "outputs": [],
   "source": [
    "def test(epoch,writer):\n",
    "    global best_accuracy\n",
    "    net.eval()\n",
    "    test_loss = 0\n",
    "    correct = 0\n",
    "    total = 0\n",
    "    with torch.no_grad():\n",
    "        for batch_idx, (inputs, targets) in enumerate(testloader):\n",
    "            inputs, targets = inputs.to(device), targets.to(device)\n",
    "            outputs = net(inputs)\n",
    "            loss = criterion(outputs, targets)\n",
    "            \n",
    "            test_loss += loss.item()\n",
    "            _, predicted = outputs.max(1)\n",
    "            total += targets.size(0)\n",
    "            correct += predicted.eq(targets).sum().item()\n",
    "            \n",
    "            if batch_idx % 50 == 0:\n",
    "                print(batch_idx, len(testloader), 'Loss: %.3f | Acc: %.3f%% (%d/%d)'%(test_loss/(batch_idx+1), 100.*correct/total, correct, total))\n",
    "            acc = 100.*correct/total\n",
    "    print('test acc', acc)\n",
    "    writer.add_scalar('test acc',acc,epoch)\n",
    "    if acc > best_accuracy:\n",
    "        print('Saving...')\n",
    "        best_accuracy = acc"
   ]
  },
  {
   "cell_type": "code",
   "execution_count": null,
   "id": "87d3345e",
   "metadata": {},
   "outputs": [],
   "source": [
    "writer = SummaryWriter('runs/Cos_lr10mmt90wd1e4')\n",
    "best_accuracy = 0\n",
    "start_epoch = 0\n",
    "net = ResNeXt29_2x64d()\n",
    "net = net.to(device)\n",
    "if device == 'cuda':\n",
    "    net = torch.nn.DataParallel(net)\n",
    "    cudnn.benchmark = True\n",
    "\n",
    "criterion = nn.CrossEntropyLoss().cuda()\n",
    "optimizer = optim.SGD(net.parameters(), lr=0.10, momentum=0.9, weight_decay=1e-4)\n",
    "\n",
    "scheduler = torch.optim.lr_scheduler.CosineAnnealingLR(optimizer, T_max=200)\n",
    "\n",
    "for epoch in range(start_epoch, start_epoch+201):\n",
    "    train(epoch,writer)\n",
    "    test(epoch,writer)\n",
    "    scheduler.step()\n",
    "    print('epoch : ',epoch, best_accuracy)"
   ]
  },
  {
   "cell_type": "code",
   "execution_count": 15,
   "id": "6c2d2b35",
   "metadata": {},
   "outputs": [],
   "source": [
    "writer.close()"
   ]
  },
  {
   "cell_type": "code",
   "execution_count": 16,
   "id": "a94224f4",
   "metadata": {},
   "outputs": [
    {
     "data": {
      "text/plain": [
       "94.57"
      ]
     },
     "execution_count": 16,
     "metadata": {},
     "output_type": "execute_result"
    }
   ],
   "source": [
    "best_accuracy"
   ]
  },
  {
   "cell_type": "code",
   "execution_count": null,
   "id": "68cdb020",
   "metadata": {},
   "outputs": [],
   "source": [
    "writer = SummaryWriter('runs/MUL_lr08mmt90wd1e4')\n",
    "best_accuracy = 0\n",
    "start_epoch = 0\n",
    "net = ResNeXt29_2x64d()\n",
    "net = net.to(device)\n",
    "if device == 'cuda':\n",
    "    net = torch.nn.DataParallel(net)\n",
    "    cudnn.benchmark = True\n",
    "\n",
    "criterion = nn.CrossEntropyLoss().cuda()\n",
    "optimizer = optim.SGD(net.parameters(), lr=0.08, momentum=0.9, weight_decay=1e-4)\n",
    "scheduler = torch.optim.lr_scheduler.MultiStepLR(optimizer, milestones=[90,120,180], gamma=0.1)\n",
    "\n",
    "for epoch in range(start_epoch, start_epoch+201):\n",
    "    train(epoch,writer)\n",
    "    test(epoch,writer)\n",
    "    scheduler.step()\n",
    "    print('epoch : ',epoch, best_accuracy)"
   ]
  },
  {
   "cell_type": "code",
   "execution_count": 22,
   "id": "5fffe090",
   "metadata": {},
   "outputs": [],
   "source": [
    "writer.close()"
   ]
  },
  {
   "cell_type": "code",
   "execution_count": 19,
   "id": "3e00a884",
   "metadata": {},
   "outputs": [
    {
     "data": {
      "text/plain": [
       "94.67"
      ]
     },
     "execution_count": 19,
     "metadata": {},
     "output_type": "execute_result"
    }
   ],
   "source": [
    "best_accuracy"
   ]
  }
 ],
 "metadata": {
  "kernelspec": {
   "display_name": "Python 3",
   "language": "python",
   "name": "python3"
  },
  "language_info": {
   "codemirror_mode": {
    "name": "ipython",
    "version": 3
   },
   "file_extension": ".py",
   "mimetype": "text/x-python",
   "name": "python",
   "nbconvert_exporter": "python",
   "pygments_lexer": "ipython3",
   "version": "3.6.10"
  }
 },
 "nbformat": 4,
 "nbformat_minor": 5
}
